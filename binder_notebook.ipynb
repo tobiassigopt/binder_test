{
 "cells": [
  {
   "cell_type": "code",
   "execution_count": 4,
   "metadata": {},
   "outputs": [],
   "source": [
    "import pandas as pd\n",
    "import numpy as np"
   ]
  },
  {
   "cell_type": "code",
   "execution_count": 6,
   "metadata": {},
   "outputs": [
    {
     "name": "stdout",
     "output_type": "stream",
     "text": [
      "          0         1         2         3\n",
      "0  0.244408  0.250060  0.159352  0.178414\n",
      "1  0.695183  0.849973  0.513586  0.532276\n",
      "2  0.754471  0.138814  0.487921  0.321581\n",
      "3  0.059123  0.319764  0.741779  0.848407\n"
     ]
    }
   ],
   "source": [
    "test_df = pd.DataFrame(np.random.rand(4,4))\n",
    "print(test_df)"
   ]
  }
 ],
 "metadata": {
  "kernelspec": {
   "display_name": "geek_out_env",
   "language": "python",
   "name": "geek_out_env"
  },
  "language_info": {
   "codemirror_mode": {
    "name": "ipython",
    "version": 3
   },
   "file_extension": ".py",
   "mimetype": "text/x-python",
   "name": "python",
   "nbconvert_exporter": "python",
   "pygments_lexer": "ipython3",
   "version": "3.6.6"
  }
 },
 "nbformat": 4,
 "nbformat_minor": 4
}
